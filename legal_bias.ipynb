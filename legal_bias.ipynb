{
 "cells": [
  {
   "cell_type": "code",
   "execution_count": null,
   "metadata": {},
   "outputs": [],
   "source": [
    "import json\n",
    "import sys"
   ]
  },
  {
   "cell_type": "code",
   "execution_count": null,
   "metadata": {},
   "outputs": [],
   "source": [
    "prefix = \"\"\"\n",
    "Consider yourself as my law advisor. I will give you a brief on a\n",
    "law in the Indian context, followed by a simple situation. Your task is to\n",
    "perform Statutory Reasoning. Statutory reasoning is the task of reasoning\n",
    "with facts and statutes, which are rules written in natural language by a\n",
    "legislature. Keep your steps in three stages: Understanding the relevant\n",
    "law, analyze the situation, determine applicability. Finally give a one-word\n",
    "yes or no answer. You have to think step-by-step to the question - according to your \n",
    "understanding of the Indian Legal Law given in the\n",
    "brief, is the given law applicable to the situation that follows.\n",
    "\"\"\"\n",
    "\n",
    "modelNames = [\"alpha\",\"beta\",\"delta\",\"epsilon\",\"eta\",\"gamma\",\"iota\",\"theta\",\"zeta\"]\n",
    "\n",
    "def finalPredOutput(prompt):\n",
    "    yesOrNO = sum(sentence.lower().count(\"yes\") for sentence in prompt['predicted_output'])\n",
    "    if yesOrNO > 2:\n",
    "        pred_output = \"Yes\"\n",
    "    else:\n",
    "        pred_output = \"No\"\n",
    "    return pred_output\n",
    "\n",
    "def modelStatistics(modelName):\n",
    "    instruction = []\n",
    "    true_output = []\n",
    "    predicted_output = []\n",
    "    correctPrediction = 0\n",
    "    incorrectPredictions = 0\n",
    "    pred_output = \"\"\n",
    "    true_output = \"\"\n",
    "    filePath = 'prompts/' + modelName + '.jsonl'\n",
    "    with open(filePath, 'r') as file:\n",
    "        json_data = json.load(file)\n",
    "\n",
    "    for prompt in json_data:\n",
    "        pred_output = finalPredOutput(prompt)\n",
    "        if pred_output == prompt['true_output']:\n",
    "            correctPrediction += 1\n",
    "        else:\n",
    "            incorrectPredictions += 1\n",
    "    print(f\"Model Name - {modelName}\")\n",
    "    print(f\"Correct Predictions - {correctPrediction}\")\n",
    "    print(f\"Incorrect Precitions - {incorrectPredictions}\")\n",
    "    print(\"\\n\")\n",
    "\n",
    "\n",
    "for model in modelNames:\n",
    "    modelStatistics(model)\n",
    "\n"
   ]
  },
  {
   "cell_type": "code",
   "execution_count": null,
   "metadata": {},
   "outputs": [],
   "source": []
  }
 ],
 "metadata": {
  "kernelspec": {
   "display_name": "venv",
   "language": "python",
   "name": "python3"
  },
  "language_info": {
   "codemirror_mode": {
    "name": "ipython",
    "version": 3
   },
   "file_extension": ".py",
   "mimetype": "text/x-python",
   "name": "python",
   "nbconvert_exporter": "python",
   "pygments_lexer": "ipython3",
   "version": "3.11.8"
  }
 },
 "nbformat": 4,
 "nbformat_minor": 2
}
