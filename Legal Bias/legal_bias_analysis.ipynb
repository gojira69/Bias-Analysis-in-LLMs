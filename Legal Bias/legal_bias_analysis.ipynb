{
 "cells": [
  {
   "cell_type": "code",
   "execution_count": null,
   "metadata": {},
   "outputs": [],
   "source": [
    "import json\n",
    "import sys\n",
    "import re\n",
    "import pandas as pd\n",
    "\n",
    "modelNames = ['alpha','beta','delta','epsilon','eta','gamma','iota','theta','zeta']"
   ]
  },
  {
   "cell_type": "code",
   "execution_count": null,
   "metadata": {},
   "outputs": [],
   "source": [
    "def remove_phrase_from_list(string_list, phrase_to_remove):\n",
    "    modified_list = []\n",
    "    for string in string_list:\n",
    "        modified_string = string.replace(phrase_to_remove, '').strip()\n",
    "        modified_list.append(modified_string)\n",
    "    return modified_list\n",
    "\n",
    "def getIdentityArray(filePath):\n",
    "    df_religion = pd.read_csv(filePath,sep='\\t')\n",
    "    religion_list = df_religion.values.tolist()\n",
    "    religion_idTerms = [item for sublist in religion_list for item in sublist]\n",
    "    return religion_idTerms"
   ]
  },
  {
   "cell_type": "markdown",
   "metadata": {},
   "source": [
    "# Generating stereotypical tuples"
   ]
  },
  {
   "cell_type": "code",
   "execution_count": null,
   "metadata": {},
   "outputs": [],
   "source": [
    "religionArray = getIdentityArray('promptDetails/religion_id.tsv')\n",
    "regionArray = getIdentityArray('promptDetails/region_id.tsv')\n",
    "casteArray = getIdentityArray('promptDetails/caste_id.tsv')\n",
    "\n",
    "for model in modelNames:\n",
    "    filePath = 'promptDetails/' + model + '/details.tsv'\n",
    "    df = pd.read_csv(filePath, sep='\\t')\n",
    "    \n",
    "    tuples = zip(df['identity term'], df['gender'], df['action'], df['pred outputs'], df['true outputs'])\n",
    "    model_df = pd.DataFrame(tuples, columns=['identity term', 'gender', 'action', 'pred outputs', 'true outputs'])\n",
    "    \n",
    "    # Separating the dataframes based on caste, religion, and region\n",
    "    caste_df = model_df[model_df['identity term'].isin(casteArray)]\n",
    "    filePath = 'promptDetails/' + model + '/byCaste.tsv'\n",
    "    caste_df.to_csv(filePath,sep='\\t',index=False)\n",
    "\n",
    "    religion_df = model_df[model_df['identity term'].isin(religionArray)]\n",
    "    filePath = 'promptDetails/' + model + '/byReligion.tsv'\n",
    "    religion_df.to_csv(filePath,sep='\\t',index=False)\n",
    "\n",
    "    region_df = model_df[model_df['identity term'].isin(regionArray)]\n",
    "    filePath = 'promptDetails/' + model + '/byRegion.tsv'\n",
    "    region_df.to_csv(filePath,sep='\\t',index=False)"
   ]
  }
 ],
 "metadata": {
  "kernelspec": {
   "display_name": "Python 3",
   "language": "python",
   "name": "python3"
  },
  "language_info": {
   "codemirror_mode": {
    "name": "ipython",
    "version": 3
   },
   "file_extension": ".py",
   "mimetype": "text/x-python",
   "name": "python",
   "nbconvert_exporter": "python",
   "pygments_lexer": "ipython3",
   "version": "3.11.4"
  },
  "orig_nbformat": 4
 },
 "nbformat": 4,
 "nbformat_minor": 2
}
