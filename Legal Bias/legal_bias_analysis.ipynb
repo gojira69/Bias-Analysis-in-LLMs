{
 "cells": [
  {
   "cell_type": "markdown",
   "metadata": {},
   "source": [
    "# Bias Analysis in Legal AI"
   ]
  },
  {
   "cell_type": "code",
   "execution_count": null,
   "metadata": {},
   "outputs": [],
   "source": [
    "import json\n",
    "import sys\n",
    "import re\n",
    "import pandas as pd\n",
    "import matplotlib.pyplot as plt\n",
    "\n",
    "modelNames = ['alpha','beta','delta','epsilon','eta','gamma','iota','theta','zeta']"
   ]
  },
  {
   "cell_type": "markdown",
   "metadata": {},
   "source": [
    "## Helper Functions"
   ]
  },
  {
   "cell_type": "code",
   "execution_count": null,
   "metadata": {},
   "outputs": [],
   "source": [
    "def remove_phrase_from_list(string_list, phrase_to_remove):\n",
    "    modified_list = []\n",
    "    for string in string_list:\n",
    "        modified_string = string.replace(phrase_to_remove, '').strip()\n",
    "        modified_list.append(modified_string)\n",
    "    return modified_list\n",
    "\n",
    "def getIdentityArray(filePath):\n",
    "    df_religion = pd.read_csv(filePath,sep='\\t')\n",
    "    religion_list = df_religion.values.tolist()\n",
    "    religion_idTerms = [item for sublist in religion_list for item in sublist]\n",
    "    return religion_idTerms"
   ]
  },
  {
   "cell_type": "markdown",
   "metadata": {},
   "source": [
    "# Generating stereotypical tuples\n",
    "\n",
    "From the filtered out prompts, we obtain the rows by keeping some of the social axes constant, and save them in .tsv files."
   ]
  },
  {
   "cell_type": "code",
   "execution_count": null,
   "metadata": {},
   "outputs": [],
   "source": [
    "religionArray = getIdentityArray('promptDetails/religion_id.tsv')\n",
    "regionArray = getIdentityArray('promptDetails/region_id.tsv')\n",
    "casteArray = getIdentityArray('promptDetails/caste_id.tsv')\n",
    "genderArray = getIdentityArray('promptDetails/gender_idterms.tsv')\n",
    "\n",
    "for model in modelNames:\n",
    "    filePath = 'promptDetails/' + model + '/details.tsv'\n",
    "    df = pd.read_csv(filePath, sep='\\t')\n",
    "    \n",
    "    tuples = zip(df['identity term'], df['gender'], df['action'], df['pred outputs'], df['true outputs'])\n",
    "    model_df = pd.DataFrame(tuples, columns=['identity term', 'gender', 'action', 'pred outputs', 'true outputs'])\n",
    "    \n",
    "    # Separating the dataframes based on caste, religion, gender and region\n",
    "    caste_df = model_df[model_df['identity term'].isin(casteArray)]\n",
    "    filePath = 'promptDetails/' + model + '/byCaste.tsv'\n",
    "    caste_df.to_csv(filePath,sep='\\t',index=False)\n",
    "\n",
    "    religion_df = model_df[model_df['identity term'].isin(religionArray)]\n",
    "    filePath = 'promptDetails/' + model + '/byReligion.tsv'\n",
    "    religion_df.to_csv(filePath,sep='\\t',index=False)\n",
    "\n",
    "    region_df = model_df[model_df['identity term'].isin(regionArray)]\n",
    "    filePath = 'promptDetails/' + model + '/byRegion.tsv'\n",
    "    region_df.to_csv(filePath,sep='\\t',index=False)\n",
    "\n",
    "    gender_df = model_df[model_df['gender'].isin(genderArray)]\n",
    "    filePath = 'promptDetails/' + model + '/byGender.tsv'\n",
    "    gender_df.to_csv(filePath,sep='\\t',index=False)"
   ]
  },
  {
   "cell_type": "markdown",
   "metadata": {},
   "source": [
    "# Conflicts By Region\n",
    "\n",
    "Plotting the `region` Vs `conflicts` bar graph. For each model, we take the rows from the `by<idenityTerm>.tsv` file and get the rows where the predicted outputs and true outputs differ."
   ]
  },
  {
   "cell_type": "code",
   "execution_count": null,
   "metadata": {},
   "outputs": [],
   "source": [
    "y_axis_range = (0, 80)  \n",
    "\n",
    "for model in modelNames:\n",
    "    filePath = 'promptDetails/' + model + '/byRegion.tsv'\n",
    "    df = pd.read_csv(filePath, sep='\\t')\n",
    "\n",
    "    regions = df['identity term'].unique()\n",
    "\n",
    "    conflicts = {region: 0 for region in regions}\n",
    "\n",
    "    for index, row in df.iterrows():\n",
    "        region = row['identity term']\n",
    "        predicted_output = row['pred outputs']\n",
    "        true_output = row['true outputs']\n",
    "\n",
    "        if predicted_output != true_output:\n",
    "            conflicts[region] += 1\n",
    "\n",
    "    plt.figure(figsize=(10, 6))\n",
    "    plt.bar(conflicts.keys(), conflicts.values(), color='skyblue')\n",
    "    plt.xlabel('Region')\n",
    "    plt.ylabel('Number of Conflicts')\n",
    "    title = 'Number of Conflicts by Region in ' + model\n",
    "    plt.title(title)\n",
    "    plt.xticks(rotation=45, ha='right')\n",
    "    plt.ylim(y_axis_range)  \n",
    "    plt.tight_layout()\n",
    "    saveFilePath = 'promptDetails/' + model + '/conflictByRegion.png'\n",
    "    plt.savefig(saveFilePath)\n",
    "    # plt.show()"
   ]
  },
  {
   "cell_type": "markdown",
   "metadata": {},
   "source": [
    "# Conflicts by religion\n",
    "\n",
    "Plotting the `religion` Vs `conflicts` bar graph. For each model, we take the rows from the `by<idenityTerm>.tsv` file and get the rows where the predicted outputs and true outputs differ."
   ]
  },
  {
   "cell_type": "code",
   "execution_count": null,
   "metadata": {},
   "outputs": [],
   "source": [
    "y_axis_range = (0, 90)  \n",
    "\n",
    "for model in modelNames:\n",
    "    filePath = 'promptDetails/' + model + '/byReligion.tsv'\n",
    "    df = pd.read_csv(filePath, sep='\\t')\n",
    "\n",
    "    regions = df['identity term'].unique()\n",
    "\n",
    "    conflicts = {region: 0 for region in regions}\n",
    "\n",
    "    for index, row in df.iterrows():\n",
    "        region = row['identity term']\n",
    "        predicted_output = row['pred outputs']\n",
    "        true_output = row['true outputs']\n",
    "\n",
    "        if predicted_output != true_output:\n",
    "            conflicts[region] += 1\n",
    "\n",
    "    plt.figure(figsize=(10, 6))\n",
    "    plt.bar(conflicts.keys(), conflicts.values(), color='skyblue')\n",
    "    plt.xlabel('Region')\n",
    "    plt.ylabel('Number of Conflicts')\n",
    "    title = 'Number of Conflicts by Religion in ' + model\n",
    "    plt.title(title)\n",
    "    plt.xticks(rotation=45, ha='right')\n",
    "    plt.ylim(y_axis_range)  \n",
    "    plt.tight_layout()\n",
    "    saveFilePath = 'promptDetails/' + model + '/conflictByReligion.png'\n",
    "    plt.savefig(saveFilePath)\n",
    "    # plt.show()"
   ]
  },
  {
   "cell_type": "markdown",
   "metadata": {},
   "source": [
    "# Conflicts by Caste\n",
    "\n",
    "Plotting the `caste` Vs `conflicts` bar graph. For each model, we take the rows from the `by<idenityTerm>.tsv` file and get the rows where the predicted outputs and true outputs differ."
   ]
  },
  {
   "cell_type": "code",
   "execution_count": null,
   "metadata": {},
   "outputs": [],
   "source": [
    "y_axis_range = (0, 80) \n",
    "\n",
    "for model in modelNames:\n",
    "    filePath = 'promptDetails/' + model + '/byCaste.tsv'\n",
    "    df = pd.read_csv(filePath, sep='\\t')\n",
    "\n",
    "    regions = df['identity term'].unique()\n",
    "\n",
    "    conflicts = {region: 0 for region in regions}\n",
    "\n",
    "    for index, row in df.iterrows():\n",
    "        region = row['identity term']\n",
    "        predicted_output = row['pred outputs']\n",
    "        true_output = row['true outputs']\n",
    "\n",
    "        if predicted_output != true_output:\n",
    "            conflicts[region] += 1\n",
    "\n",
    "    plt.figure(figsize=(10, 6))\n",
    "    plt.bar(conflicts.keys(), conflicts.values(), color='skyblue')\n",
    "    plt.xlabel('Region')\n",
    "    plt.ylabel('Number of Conflicts')\n",
    "    title = 'Number of Conflicts by Caste in ' + model\n",
    "    plt.title(title)\n",
    "    plt.xticks(rotation=45, ha='right')\n",
    "    plt.ylim(y_axis_range)  \n",
    "    plt.tight_layout()\n",
    "    saveFilePath = 'promptDetails/' + model + '/conflictByCaste.png'\n",
    "    plt.savefig(saveFilePath)\n",
    "    # plt.show()"
   ]
  },
  {
   "cell_type": "markdown",
   "metadata": {},
   "source": [
    "# Conflicts by Gender\n",
    "\n",
    "Plotting the `gender` Vs `conflicts` bar graph. For each model, we take the rows from the `by<idenityTerm>.tsv` file and get the rows where the predicted outputs and true outputs differ."
   ]
  },
  {
   "cell_type": "code",
   "execution_count": null,
   "metadata": {},
   "outputs": [],
   "source": [
    "y_axis_range = (0, 2000)  \n",
    "\n",
    "for model in modelNames:\n",
    "    filePath = 'promptDetails/' + model + '/byGender.tsv'\n",
    "    df = pd.read_csv(filePath, sep='\\t')\n",
    "\n",
    "    regions = df['gender'].unique()\n",
    "\n",
    "    conflicts = {region: 0 for region in regions}\n",
    "\n",
    "    for index, row in df.iterrows():\n",
    "        region = row['gender']\n",
    "        predicted_output = row['pred outputs']\n",
    "        true_output = row['true outputs']\n",
    "\n",
    "        if predicted_output != true_output:\n",
    "            conflicts[region] += 1\n",
    "\n",
    "    plt.figure(figsize=(10, 6))\n",
    "    plt.bar(conflicts.keys(), conflicts.values(), color='skyblue')\n",
    "    plt.xlabel('Region')\n",
    "    plt.ylabel('Number of Conflicts')\n",
    "    title = 'Number of Conflicts by Gender in ' + model\n",
    "    plt.title(title)\n",
    "    plt.xticks(rotation=45, ha='right')\n",
    "    plt.ylim(y_axis_range) \n",
    "    plt.tight_layout()\n",
    "    saveFilePath = 'promptDetails/' + model + '/conflictByGender.png'\n",
    "    plt.savefig(saveFilePath)\n",
    "    # plt.show()"
   ]
  },
  {
   "cell_type": "markdown",
   "metadata": {},
   "source": [
    "# Total Conflicts\n",
    "\n",
    "A model wise visual representation of how many conflicts occur for each model in all teh social axes."
   ]
  },
  {
   "cell_type": "code",
   "execution_count": null,
   "metadata": {},
   "outputs": [],
   "source": [
    "total_conflicts = {model: 0 for model in modelNames}\n",
    "y_axis_range = (0, 3500)  \n",
    "\n",
    "for model in modelNames:\n",
    "    filePath = 'promptDetails/' + model + '/details.tsv'\n",
    "    df = pd.read_csv(filePath, sep='\\t')\n",
    "\n",
    "    total_conflicts[model] = df['pred outputs'].ne(df['true outputs']).sum()\n",
    "\n",
    "plt.figure(figsize=(10, 6))\n",
    "plt.bar(total_conflicts.keys(), total_conflicts.values(), color='skyblue')\n",
    "plt.xlabel('Model')\n",
    "plt.ylabel('Total Number of Conflicts')\n",
    "plt.title('Total Number of Conflicts by Model')\n",
    "plt.xticks(rotation=45, ha='right')\n",
    "plt.ylim(y_axis_range) \n",
    "plt.tight_layout()\n",
    "plt.savefig(\"accuracy.png\")\n",
    "plt.show()\n"
   ]
  }
 ],
 "metadata": {
  "kernelspec": {
   "display_name": "Python 3",
   "language": "python",
   "name": "python3"
  },
  "language_info": {
   "codemirror_mode": {
    "name": "ipython",
    "version": 3
   },
   "file_extension": ".py",
   "mimetype": "text/x-python",
   "name": "python",
   "nbconvert_exporter": "python",
   "pygments_lexer": "ipython3",
   "version": "3.11.4"
  },
  "orig_nbformat": 4
 },
 "nbformat": 4,
 "nbformat_minor": 2
}
