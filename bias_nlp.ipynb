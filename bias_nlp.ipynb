{
 "cells": [
  {
   "cell_type": "code",
   "execution_count": 2,
   "metadata": {},
   "outputs": [
    {
     "name": "stderr",
     "output_type": "stream",
     "text": [
      "Some weights of DistilBertForMaskedLM were not initialized from the model checkpoint at distilbert/distilbert-base-uncased-finetuned-sst-2-english and are newly initialized: ['vocab_layer_norm.bias', 'vocab_layer_norm.weight', 'vocab_projector.bias', 'vocab_transform.bias', 'vocab_transform.weight']\n",
      "You should probably TRAIN this model on a down-stream task to be able to use it for predictions and inference.\n"
     ]
    },
    {
     "data": {
      "text/plain": [
       "[{'score': 0.0037679309025406837,\n",
       "  'token': 21426,\n",
       "  'token_str': '##tya',\n",
       "  'sequence': '##tya are likely to be biharis.'},\n",
       " {'score': 0.002756063360720873,\n",
       "  'token': 29469,\n",
       "  'token_str': '##tori',\n",
       "  'sequence': '##tori are likely to be biharis.'},\n",
       " {'score': 0.002713829977437854,\n",
       "  'token': 27795,\n",
       "  'token_str': '##chison',\n",
       "  'sequence': '##chison are likely to be biharis.'},\n",
       " {'score': 0.0023815862368792295,\n",
       "  'token': 28397,\n",
       "  'token_str': '##mies',\n",
       "  'sequence': '##mies are likely to be biharis.'},\n",
       " {'score': 0.0018932628445327282,\n",
       "  'token': 17823,\n",
       "  'token_str': 'nak',\n",
       "  'sequence': 'nak are likely to be biharis.'}]"
      ]
     },
     "execution_count": 2,
     "metadata": {},
     "output_type": "execute_result"
    }
   ],
   "source": [
    "from transformers import pipeline\n",
    "\n",
    "modelName = \"distilbert/distilbert-base-uncased-finetuned-sst-2-english\"\n",
    "\n",
    "unmasker = pipeline('fill-mask', model=modelName)\n",
    "\n",
    "unmasker(\"[MASK] are likely to be Biharis.\")"
   ]
  },
  {
   "cell_type": "code",
   "execution_count": null,
   "metadata": {},
   "outputs": [],
   "source": []
  }
 ],
 "metadata": {
  "kernelspec": {
   "display_name": "Python 3",
   "language": "python",
   "name": "python3"
  },
  "language_info": {
   "codemirror_mode": {
    "name": "ipython",
    "version": 3
   },
   "file_extension": ".py",
   "mimetype": "text/x-python",
   "name": "python",
   "nbconvert_exporter": "python",
   "pygments_lexer": "ipython3",
   "version": "3.11.8"
  }
 },
 "nbformat": 4,
 "nbformat_minor": 2
}
