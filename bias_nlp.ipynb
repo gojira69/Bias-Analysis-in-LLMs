{
 "cells": [
  {
   "cell_type": "code",
   "execution_count": null,
   "metadata": {},
   "outputs": [],
   "source": [
    "from transformers import pipeline\n",
    "import pandas as pd\n",
    "\n",
    "modelName = \"bert-base-multilingual-cased\"\n",
    "\n",
    "topResults = 100\n",
    "unmasker = pipeline('fill-mask', model=modelName,top_k=topResults)"
   ]
  },
  {
   "cell_type": "markdown",
   "metadata": {},
   "source": [
    "# Data Cleaning"
   ]
  },
  {
   "cell_type": "code",
   "execution_count": null,
   "metadata": {},
   "outputs": [],
   "source": [
    "filePath_template = \"nlp-fairness-for-india-main/templates.tsv\"\n",
    "filePath_religion_idterms = \"nlp-fairness-for-india-main/religion_idterms.tsv\"\n",
    "filePath_region_idterms = \"nlp-fairness-for-india-main/region_idterms.tsv\"\n",
    "filePath_Caste_idterms = \"nlp-fairness-for-india-main/caste_idterms.tsv\"\n",
    "\n",
    "def getTemplateArray(filePath):\n",
    "    df_placeolders = pd.read_csv(filePath,sep='\\t')\n",
    "    df_placeolders = df_placeolders.iloc[:,1:]\n",
    "    df_placeolders = df_placeolders.replace('@','[MASK]',regex=True)\n",
    "    semiTemplates = df_placeolders.values.tolist()\n",
    "    templates = [item for sublist in semiTemplates for item in sublist]\n",
    "    return templates\n",
    "\n",
    "def getIdentityArray(filePath):\n",
    "    df_religion = pd.read_csv(filePath,sep='\\t')\n",
    "    religion_list = df_religion.values.tolist()\n",
    "    religion_idTerms = [item for sublist in religion_list for item in sublist]\n",
    "    return religion_idTerms\n",
    "\n",
    "def replaceSlotWithWord(sentences, word):\n",
    "    return word, [sentence.replace('[SLOT]', word) for sentence in sentences]\n",
    "\n",
    "templates = getTemplateArray(filePath_template)"
   ]
  },
  {
   "cell_type": "markdown",
   "metadata": {},
   "source": [
    "# Religion"
   ]
  },
  {
   "cell_type": "code",
   "execution_count": null,
   "metadata": {},
   "outputs": [],
   "source": [
    "religionIDTerms = getIdentityArray(filePath_religion_idterms)\n",
    "religionTuples = []\n",
    "\n",
    "for religion in religionIDTerms:\n",
    "    currReligion , modifiedTemplates = replaceSlotWithWord(templates,religion)\n",
    "    for template in modifiedTemplates:\n",
    "        result = unmasker(template)\n",
    "        for res in result:\n",
    "            religionTuples.append((currReligion,res['token_str']))\n",
    "\n",
    "df_religionTuples = pd.DataFrame(religionTuples, columns=['Religion', 'StereoType'])\n",
    "output_file_path = \"religionTuples_MLM.tsv\"\n",
    "df_religionTuples.to_csv(output_file_path, sep='\\t', index=False)\n",
    "\n",
    "print(\"Data saved successfully.\")"
   ]
  },
  {
   "cell_type": "markdown",
   "metadata": {},
   "source": [
    "# Region"
   ]
  },
  {
   "cell_type": "code",
   "execution_count": null,
   "metadata": {},
   "outputs": [],
   "source": [
    "regionIDTerms = getIdentityArray(filePath_region_idterms)\n",
    "regionTuples = []\n",
    "\n",
    "for region in regionIDTerms:\n",
    "    currRegion , modifiedTemplates = replaceSlotWithWord(templates,region)\n",
    "    for template in modifiedTemplates:\n",
    "        result = unmasker(template)\n",
    "        for res in result:\n",
    "            regionTuples.append((currRegion,res['token_str']))\n",
    "\n",
    "df_regionTuples = pd.DataFrame(regionTuples, columns=['Region', 'StereoType'])\n",
    "output_file_path = \"regionTuples_MLM.tsv\"\n",
    "df_regionTuples.to_csv(output_file_path, sep='\\t', index=False)\n",
    "\n",
    "print(\"Data saved successfully.\")"
   ]
  },
  {
   "cell_type": "markdown",
   "metadata": {},
   "source": [
    "# Caste"
   ]
  },
  {
   "cell_type": "code",
   "execution_count": null,
   "metadata": {},
   "outputs": [],
   "source": [
    "casteIDTerms = getIdentityArray(filePath_Caste_idterms)\n",
    "casteTuples = []\n",
    "\n",
    "for caste in casteIDTerms:\n",
    "    currCaste , modifiedTemplates = replaceSlotWithWord(templates,caste)\n",
    "    for template in modifiedTemplates:\n",
    "        result = unmasker(template)\n",
    "        for res in result:\n",
    "            casteTuples.append((currCaste,res['token_str']))\n",
    "\n",
    "df_regionTuples = pd.DataFrame(casteTuples, columns=['Region', 'StereoType'])\n",
    "output_file_path = \"casteTuples_MLM.tsv\"\n",
    "df_regionTuples.to_csv(output_file_path, sep='\\t', index=False)\n",
    "\n",
    "print(\"Data saved successfully.\")"
   ]
  },
  {
   "cell_type": "markdown",
   "metadata": {},
   "source": [
    "# Data Analysis"
   ]
  },
  {
   "cell_type": "code",
   "execution_count": 20,
   "metadata": {},
   "outputs": [],
   "source": [
    "import pandas as pd\n",
    "\n",
    "# Region\n",
    "df_regionTuples = pd.read_csv(\"regionTuples_MLM.tsv\", sep='\\t')\n",
    "regions = df_regionTuples['Region'].unique()\n",
    "region_dfs = {}\n",
    "for region in regions:\n",
    "    region_dfs[region] = df_regionTuples[df_regionTuples['Region'] == region]\n",
    "for region, region_df in region_dfs.items():\n",
    "    filePath = \"Region_List/\" + region + \".tsv\"\n",
    "    region_df.to_csv(filePath,sep='\\t',index=False)\n",
    "\n",
    "# Religion\n",
    "df_religionTuples = pd.read_csv(\"religionTuples_MLM.tsv\", sep='\\t')\n",
    "religions = df_religionTuples['Religion'].unique()\n",
    "religion_dfs = {}\n",
    "for religion in religions:\n",
    "    religion_dfs[religion] = df_religionTuples[df_religionTuples['Religion'] == religion]\n",
    "for religion, religion_df in religion_dfs.items():\n",
    "    filePath = \"Religion_List/\" + religion + \".tsv\"\n",
    "    religion_df.to_csv(filePath,sep='\\t',index=False)\n",
    "\n",
    "df_casteTuples = pd.read_csv(\"casteTuples_MLM.tsv\", sep='\\t')\n",
    "\n",
    "sc_st_tuples = df_casteTuples[df_casteTuples['Caste'].str.contains(\"sc/st\", case=False)]\n",
    "sc_st_file_path = \"Caste_List/sc_st_tuples.tsv\"\n",
    "sc_st_tuples.to_csv(sc_st_file_path, sep='\\t', index=False)\n",
    "\n",
    "castes = df_casteTuples['Caste'].unique()\n",
    "for caste in castes:\n",
    "    if \"sc/st\" in caste.lower():\n",
    "        continue\n",
    "    caste_df = df_casteTuples[df_casteTuples['Caste'] == caste]\n",
    "    file_path = f\"Caste_List/{caste}.tsv\"\n",
    "    caste_df.to_csv(file_path, sep='\\t', index=False)\n"
   ]
  }
 ],
 "metadata": {
  "kernelspec": {
   "display_name": "Python 3",
   "language": "python",
   "name": "python3"
  },
  "language_info": {
   "codemirror_mode": {
    "name": "ipython",
    "version": 3
   },
   "file_extension": ".py",
   "mimetype": "text/x-python",
   "name": "python",
   "nbconvert_exporter": "python",
   "pygments_lexer": "ipython3",
   "version": "3.11.4"
  }
 },
 "nbformat": 4,
 "nbformat_minor": 2
}
