{
 "cells": [
  {
   "cell_type": "code",
   "execution_count": 10,
   "metadata": {},
   "outputs": [
    {
     "name": "stderr",
     "output_type": "stream",
     "text": [
      "/usr/lib/python3/dist-packages/tqdm/auto.py:22: TqdmWarning: IProgress not found. Please update jupyter and ipywidgets. See https://ipywidgets.readthedocs.io/en/stable/user_install.html\n",
      "  from .autonotebook import tqdm as notebook_tqdm\n",
      "2024-02-12 23:20:09.500630: I tensorflow/core/util/port.cc:113] oneDNN custom operations are on. You may see slightly different numerical results due to floating-point round-off errors from different computation orders. To turn them off, set the environment variable `TF_ENABLE_ONEDNN_OPTS=0`.\n",
      "2024-02-12 23:20:09.842239: E external/local_xla/xla/stream_executor/cuda/cuda_dnn.cc:9261] Unable to register cuDNN factory: Attempting to register factory for plugin cuDNN when one has already been registered\n",
      "2024-02-12 23:20:09.842396: E external/local_xla/xla/stream_executor/cuda/cuda_fft.cc:607] Unable to register cuFFT factory: Attempting to register factory for plugin cuFFT when one has already been registered\n",
      "2024-02-12 23:20:09.878293: E external/local_xla/xla/stream_executor/cuda/cuda_blas.cc:1515] Unable to register cuBLAS factory: Attempting to register factory for plugin cuBLAS when one has already been registered\n",
      "2024-02-12 23:20:09.965180: I tensorflow/core/platform/cpu_feature_guard.cc:182] This TensorFlow binary is optimized to use available CPU instructions in performance-critical operations.\n",
      "To enable the following instructions: AVX2 AVX512F AVX512_VNNI FMA, in other operations, rebuild TensorFlow with the appropriate compiler flags.\n",
      "2024-02-12 23:20:13.438269: W tensorflow/compiler/tf2tensorrt/utils/py_utils.cc:38] TF-TRT Warning: Could not find TensorRT\n",
      "Some weights of the model checkpoint at bert-base-multilingual-cased were not used when initializing BertForMaskedLM: ['bert.pooler.dense.bias', 'bert.pooler.dense.weight', 'cls.seq_relationship.bias', 'cls.seq_relationship.weight']\n",
      "- This IS expected if you are initializing BertForMaskedLM from the checkpoint of a model trained on another task or with another architecture (e.g. initializing a BertForSequenceClassification model from a BertForPreTraining model).\n",
      "- This IS NOT expected if you are initializing BertForMaskedLM from the checkpoint of a model that you expect to be exactly identical (initializing a BertForSequenceClassification model from a BertForSequenceClassification model).\n"
     ]
    }
   ],
   "source": [
    "from transformers import pipeline\n",
    "import pandas as pd\n",
    "\n",
    "modelName = \"bert-base-multilingual-cased\"\n",
    "\n",
    "topResults = 100\n",
    "unmasker = pipeline('fill-mask', model=modelName,top_k=topResults)"
   ]
  },
  {
   "cell_type": "markdown",
   "metadata": {},
   "source": [
    "# Data Cleaning"
   ]
  },
  {
   "cell_type": "code",
   "execution_count": 11,
   "metadata": {},
   "outputs": [],
   "source": [
    "filePath_template = \"nlp-fairness-for-india-main/templates.tsv\"\n",
    "filePath_religion_idterms = \"nlp-fairness-for-india-main/religion_idterms.tsv\"\n",
    "filePath_region_idterms = \"nlp-fairness-for-india-main/region_idterms.tsv\"\n",
    "filePath_Caste_idterms = \"nlp-fairness-for-india-main/caste_idterms.tsv\"\n",
    "humanDataset_region = \"region_stereotypes.tsv\"\n",
    "humanDataset_religion = \"religion_stereotypes.tsv\"\n",
    "\n",
    "def getTemplateArray(filePath):\n",
    "    df_placeolders = pd.read_csv(filePath,sep='\\t')\n",
    "    df_placeolders = df_placeolders.iloc[:,1:]\n",
    "    df_placeolders = df_placeolders.replace('@','[MASK]',regex=True)\n",
    "    semiTemplates = df_placeolders.values.tolist()\n",
    "    templates = [item for sublist in semiTemplates for item in sublist]\n",
    "    return templates\n",
    "\n",
    "def getIdentityArray(filePath):\n",
    "    df_religion = pd.read_csv(filePath,sep='\\t')\n",
    "    religion_list = df_religion.values.tolist()\n",
    "    religion_idTerms = [item for sublist in religion_list for item in sublist]\n",
    "    return religion_idTerms\n",
    "\n",
    "def replaceSlotWithWord(sentences, word):\n",
    "    return word, [sentence.replace('[SLOT]', word) for sentence in sentences]\n",
    "\n",
    "\n",
    "def extract_common_tuples(file1_path,file2_path,social_axis):\n",
    "    file1_df = pd.read_csv(file1_path,sep='\\t')\n",
    "    file2_df = pd.read_csv(file2_path,sep='\\t')\n",
    "\n",
    "    merged_df = pd.merge(file1_df, file2_df, on=[social_axis, 'StereoType'], how='inner')\n",
    "    merged_df.drop_duplicates(inplace=True)\n",
    "\n",
    "    return merged_df\n",
    "\n",
    "templates = getTemplateArray(filePath_template)"
   ]
  },
  {
   "cell_type": "markdown",
   "metadata": {},
   "source": [
    "# Religion"
   ]
  },
  {
   "cell_type": "code",
   "execution_count": 12,
   "metadata": {},
   "outputs": [],
   "source": [
    "religionIDTerms = getIdentityArray(filePath_religion_idterms)\n",
    "religionTuples = []\n",
    "\n",
    "for religion in religionIDTerms:\n",
    "    currReligion , modifiedTemplates = replaceSlotWithWord(templates,religion)\n",
    "    for template in modifiedTemplates:\n",
    "        result = unmasker(template)\n",
    "        for res in result:\n",
    "            religionTuples.append((currReligion,res['token_str']))\n",
    "\n",
    "df_religionTuples = pd.DataFrame(religionTuples, columns=['Religion', 'StereoType'])\n",
    "output_file_path = \"religionTuples_MLM.tsv\"\n",
    "df_religionTuples.to_csv(output_file_path, sep='\\t', index=False)\n",
    "\n",
    "print(\"Data saved successfully.\")"
   ]
  },
  {
   "cell_type": "markdown",
   "metadata": {},
   "source": [
    "# Region"
   ]
  },
  {
   "cell_type": "code",
   "execution_count": 13,
   "metadata": {},
   "outputs": [],
   "source": [
    "regionIDTerms = getIdentityArray(filePath_region_idterms)\n",
    "regionTuples = []\n",
    "\n",
    "for region in regionIDTerms:\n",
    "    currRegion , modifiedTemplates = replaceSlotWithWord(templates,region)\n",
    "    for template in modifiedTemplates:\n",
    "        result = unmasker(template)\n",
    "        for res in result:\n",
    "            regionTuples.append((currRegion,res['token_str']))\n",
    "\n",
    "df_regionTuples = pd.DataFrame(regionTuples, columns=['Region', 'StereoType'])\n",
    "output_file_path = \"regionTuples_MLM.tsv\"\n",
    "df_regionTuples.to_csv(output_file_path, sep='\\t', index=False)\n",
    "\n",
    "print(\"Data saved successfully.\")"
   ]
  },
  {
   "cell_type": "markdown",
   "metadata": {},
   "source": [
    "# Caste"
   ]
  },
  {
   "cell_type": "code",
   "execution_count": 14,
   "metadata": {},
   "outputs": [],
   "source": [
    "casteIDTerms = getIdentityArray(filePath_Caste_idterms)\n",
    "casteTuples = []\n",
    "\n",
    "for caste in casteIDTerms:\n",
    "    currCaste , modifiedTemplates = replaceSlotWithWord(templates,caste)\n",
    "    for template in modifiedTemplates:\n",
    "        result = unmasker(template)\n",
    "        for res in result:\n",
    "            casteTuples.append((currCaste,res['token_str']))\n",
    "\n",
    "df_regionTuples = pd.DataFrame(casteTuples, columns=['Region', 'StereoType'])\n",
    "output_file_path = \"casteTuples_MLM.tsv\"\n",
    "df_regionTuples.to_csv(output_file_path, sep='\\t', index=False)\n",
    "\n",
    "print(\"Data saved successfully.\")"
   ]
  }
 ],
 "metadata": {
  "kernelspec": {
   "display_name": "Python 3",
   "language": "python",
   "name": "python3"
  },
  "language_info": {
   "codemirror_mode": {
    "name": "ipython",
    "version": 3
   },
   "file_extension": ".py",
   "mimetype": "text/x-python",
   "name": "python",
   "nbconvert_exporter": "python",
   "pygments_lexer": "ipython3",
   "version": "3.11.4"
  }
 },
 "nbformat": 4,
 "nbformat_minor": 2
}
