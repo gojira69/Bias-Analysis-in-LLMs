{
 "cells": [
  {
   "cell_type": "code",
   "execution_count": null,
   "metadata": {},
   "outputs": [],
   "source": [
    "from transformers import pipeline\n",
    "import pandas as pd\n",
    "import itertools\n",
    "\n",
    "modelName = \"bert-base-multilingual-cased\"\n",
    "\n",
    "topResults = 100\n",
    "unmasker = pipeline('fill-mask', model=modelName,top_k=topResults)"
   ]
  },
  {
   "cell_type": "markdown",
   "metadata": {},
   "source": [
    "# Data Cleaning"
   ]
  },
  {
   "cell_type": "code",
   "execution_count": null,
   "metadata": {},
   "outputs": [],
   "source": [
    "filePath_template = \"../nlp-fairness-for-india-main/templates.tsv\"\n",
    "filePath_religion_idterms = \"../nlp-fairness-for-india-main/religion_idterms.tsv\"\n",
    "filePath_region_idterms = \"../nlp-fairness-for-india-main/region_idterms.tsv\"\n",
    "filePath_Caste_idterms = \"../nlp-fairness-for-india-main/caste_idterms.tsv\"\n",
    "filePath_gender_idterms = \"../nlp-fairness-for-india-main/gender_idterms.tsv\"\n",
    "humanDataset_region = \"region_stereotypes.tsv\"\n",
    "humanDataset_religion = \"religion_stereotypes.tsv\"\n",
    "\n",
    "def getTemplateArray(filePath):\n",
    "    df_placeolders = pd.read_csv(filePath,sep='\\t')\n",
    "    df_placeolders = df_placeolders.iloc[:,1:]\n",
    "    df_placeolders = df_placeolders.replace('@','[MASK]',regex=True)\n",
    "    semiTemplates = df_placeolders.values.tolist()\n",
    "    templates = [item for sublist in semiTemplates for item in sublist]\n",
    "    return templates\n",
    "\n",
    "def getIdentityArray(filePath):\n",
    "    df_religion = pd.read_csv(filePath,sep='\\t')\n",
    "    religion_list = df_religion.values.tolist()\n",
    "    religion_idTerms = [item for sublist in religion_list for item in sublist]\n",
    "    return religion_idTerms\n",
    "\n",
    "def replaceSlotWithWord(sentences, word):\n",
    "    return word, [sentence.replace('[SLOT]', word) for sentence in sentences]\n",
    "\n",
    "\n",
    "def extract_common_tuples(file1_path,file2_path,social_axis):\n",
    "    file1_df = pd.read_csv(file1_path,sep='\\t')\n",
    "    file2_df = pd.read_csv(file2_path,sep='\\t')\n",
    "\n",
    "    merged_df = pd.merge(file1_df, file2_df, on=[social_axis, 'StereoType'], how='inner')\n",
    "    merged_df.drop_duplicates(inplace=True)\n",
    "\n",
    "    return merged_df\n",
    "\n",
    "def crossProduct(list1, list2):\n",
    "    cross_product = list(itertools.product(list1, list2))\n",
    "    return cross_product\n",
    "\n",
    "\n",
    "templates = getTemplateArray(filePath_template)"
   ]
  },
  {
   "cell_type": "markdown",
   "metadata": {},
   "source": [
    "# Religion"
   ]
  },
  {
   "cell_type": "code",
   "execution_count": null,
   "metadata": {},
   "outputs": [],
   "source": [
    "religionIDTerms = getIdentityArray(filePath_religion_idterms)\n",
    "religionTuples = []\n",
    "\n",
    "for religion in religionIDTerms:\n",
    "    currReligion , modifiedTemplates = replaceSlotWithWord(templates,religion)\n",
    "    for template in modifiedTemplates:\n",
    "        result = unmasker(template)\n",
    "        for res in result:\n",
    "            religionTuples.append((currReligion,res['sequence']))\n",
    "\n",
    "df_religionTuples = pd.DataFrame(religionTuples, columns=['Religion', 'StereoType'])\n",
    "output_file_path = \"BERT/religionTuplesFullSequence_MLM.tsv\"\n",
    "df_religionTuples.to_csv(output_file_path, sep='\\t', index=False)\n",
    "\n",
    "print(\"Data saved successfully.\")"
   ]
  },
  {
   "cell_type": "markdown",
   "metadata": {},
   "source": [
    "# Region"
   ]
  },
  {
   "cell_type": "code",
   "execution_count": null,
   "metadata": {},
   "outputs": [],
   "source": [
    "regionIDTerms = getIdentityArray(filePath_region_idterms)\n",
    "regionTuples = []\n",
    "\n",
    "for region in regionIDTerms:\n",
    "    currRegion , modifiedTemplates = replaceSlotWithWord(templates,region)\n",
    "    for template in modifiedTemplates:\n",
    "        result = unmasker(template)\n",
    "        for res in result:\n",
    "            regionTuples.append((currRegion,res['sequence']))\n",
    "\n",
    "df_regionTuples = pd.DataFrame(regionTuples, columns=['Region', 'StereoType'])\n",
    "output_file_path = \"BERT/regionTuplesFullSequence_MLM.tsv\"\n",
    "df_regionTuples.to_csv(output_file_path, sep='\\t', index=False)\n",
    "\n",
    "print(\"Data saved successfully.\")"
   ]
  },
  {
   "cell_type": "markdown",
   "metadata": {},
   "source": [
    "# Caste"
   ]
  },
  {
   "cell_type": "code",
   "execution_count": null,
   "metadata": {},
   "outputs": [],
   "source": [
    "casteIDTerms = getIdentityArray(filePath_Caste_idterms)\n",
    "casteTuples = []\n",
    "\n",
    "for caste in casteIDTerms:\n",
    "    currCaste , modifiedTemplates = replaceSlotWithWord(templates,caste)\n",
    "    for template in modifiedTemplates:\n",
    "        result = unmasker(template)\n",
    "        for res in result:\n",
    "            casteTuples.append((currCaste,res['sequence']))\n",
    "\n",
    "df_regionTuples = pd.DataFrame(casteTuples, columns=['Region', 'StereoType'])\n",
    "output_file_path = \"BERT/casteTuplesFullSequence_MLM.tsv\"\n",
    "df_regionTuples.to_csv(output_file_path, sep='\\t', index=False)\n",
    "\n",
    "print(\"Data saved successfully.\")"
   ]
  },
  {
   "cell_type": "markdown",
   "metadata": {},
   "source": [
    "# Region x Gender"
   ]
  },
  {
   "cell_type": "code",
   "execution_count": null,
   "metadata": {},
   "outputs": [],
   "source": [
    "regionIDTerms = getIdentityArray(filePath_region_idterms)\n",
    "genderIDTerms = getIdentityArray(filePath_gender_idterms)\n",
    "region_genderIDTerms = crossProduct(regionIDTerms,genderIDTerms)\n",
    "\n",
    "region_genderTuples = []\n",
    "for item in region_genderIDTerms:\n",
    "    word = item[0] + \" \" +item[1]\n",
    "    print(word)\n",
    "    currItem , modifiedTemplates = replaceSlotWithWord(templates,word)\n",
    "    print(currItem)\n",
    "    for template in modifiedTemplates:\n",
    "        result = unmasker(template)\n",
    "        for res in result:\n",
    "            region_genderTuples.append((currItem,res['sequence']))\n",
    "\n",
    "df_region_genderTuples = pd.DataFrame(region_genderTuples, columns=['identity', 'stereotype'])\n",
    "output_file_path = \"BERT/CrossProduct/region_genderTuplesFullSequence_MLM.tsv\"\n",
    "df_region_genderTuples.to_csv(output_file_path, sep='\\t', index=False)\n",
    "\n",
    "print(\"Data saved successfully.\")"
   ]
  },
  {
   "cell_type": "markdown",
   "metadata": {},
   "source": [
    "# Religion x Gender"
   ]
  },
  {
   "cell_type": "code",
   "execution_count": null,
   "metadata": {},
   "outputs": [],
   "source": [
    "religionIDTerms = getIdentityArray(filePath_religion_idterms)\n",
    "genderIDTerms = getIdentityArray(filePath_gender_idterms)\n",
    "religion_genderIDTerms = crossProduct(religionIDTerms,genderIDTerms)\n",
    "\n",
    "religion_genderTuples = []\n",
    "for item in religion_genderIDTerms:\n",
    "    word = item[0] + \" \" +item[1]\n",
    "    print(word)\n",
    "    currItem , modifiedTemplates = replaceSlotWithWord(templates,word)\n",
    "    print(currItem)\n",
    "    for template in modifiedTemplates:\n",
    "        result = unmasker(template)\n",
    "        for res in result:\n",
    "            religion_genderTuples.append((currItem,res['sequence']))\n",
    "\n",
    "df_religion_genderTuples = pd.DataFrame(religion_genderTuples, columns=['identity', 'stereotype'])\n",
    "output_file_path = \"BERT/CrossProduct/religion_genderTuplesFullSequence_MLM.tsv\"\n",
    "df_religion_genderTuples.to_csv(output_file_path, sep='\\t', index=False)\n",
    "\n",
    "print(\"Data saved successfully.\")"
   ]
  },
  {
   "cell_type": "markdown",
   "metadata": {},
   "source": [
    "# Caste x Gender"
   ]
  },
  {
   "cell_type": "code",
   "execution_count": null,
   "metadata": {},
   "outputs": [],
   "source": [
    "casteIDTerms = getIdentityArray(filePath_Caste_idterms)\n",
    "genderIDTerms = getIdentityArray(filePath_gender_idterms)\n",
    "caste_genderIDTerms = crossProduct(casteIDTerms,genderIDTerms)\n",
    "\n",
    "caste_genderTuples = []\n",
    "for item in caste_genderIDTerms:\n",
    "    word = item[0] + \" \" +item[1]\n",
    "    print(word)\n",
    "    currItem , modifiedTemplates = replaceSlotWithWord(templates,word)\n",
    "    print(currItem)\n",
    "    for template in modifiedTemplates:\n",
    "        result = unmasker(template)\n",
    "        for res in result:\n",
    "            caste_genderTuples.append((currItem,res['sequence']))\n",
    "\n",
    "df_caste_genderTuples = pd.DataFrame(caste_genderTuples, columns=['identity', 'stereotype'])\n",
    "output_file_path = \"BERT/CrossProduct/caste_genderTuplesFullSequence_MLM.tsv\"\n",
    "df_caste_genderTuples.to_csv(output_file_path, sep='\\t', index=False)\n",
    "\n",
    "print(\"Data saved successfully.\")"
   ]
  }
 ],
 "metadata": {
  "kernelspec": {
   "display_name": "Python 3",
   "language": "python",
   "name": "python3"
  },
  "language_info": {
   "codemirror_mode": {
    "name": "ipython",
    "version": 3
   },
   "file_extension": ".py",
   "mimetype": "text/x-python",
   "name": "python",
   "nbconvert_exporter": "python",
   "pygments_lexer": "ipython3",
   "version": "3.11.4"
  }
 },
 "nbformat": 4,
 "nbformat_minor": 2
}
