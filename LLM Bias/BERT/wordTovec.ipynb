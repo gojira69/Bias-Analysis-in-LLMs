{
  "cells": [
    {
      "cell_type": "code",
      "execution_count": null,
      "metadata": {
        "id": "7S4ADoVsynIK"
      },
      "outputs": [],
      "source": [
        "import gensim.downloader as api\n",
        "\n",
        "word2vec_model = api.load(\"word2vec-google-news-300\")"
      ]
    },
    {
      "cell_type": "code",
      "execution_count": null,
      "metadata": {
        "id": "ftrepPqDynIM"
      },
      "outputs": [],
      "source": [
        "word2vec_model['scooter']"
      ]
    },
    {
      "cell_type": "code",
      "source": [
        "word2vec_model.most_similar(\"scooter\")"
      ],
      "metadata": {
        "id": "uvc7ALCPy_BP"
      },
      "execution_count": null,
      "outputs": []
    },
    {
      "cell_type": "code",
      "source": [
        "word2vec_model.similarity(\"scooter\",\"scooters\")"
      ],
      "metadata": {
        "id": "8QlILukx1WdL"
      },
      "execution_count": null,
      "outputs": []
    },
    {
      "cell_type": "code",
      "source": [
        "import pandas as pd\n",
        "from sklearn.metrics.pairwise import cosine_similarity\n",
        "\n",
        "def calculate_similarity_between_same_religion(model, file1_path, file2_path, output_file):\n",
        "    file1_df = pd.read_csv(file1_path, sep='\\t')\n",
        "    file2_df = pd.read_csv(file2_path, sep='\\t')\n",
        "\n",
        "    same_religion_df = pd.merge(file1_df, file2_df, on='Region')\n",
        "\n",
        "    max_similarity_scores = {}\n",
        "    for index, row in same_religion_df.iterrows():\n",
        "        stereotype_token2 = row['StereoType_y']\n",
        "        max_similarity_scores[stereotype_token2] = {'score': -1, 'token1': None}\n",
        "\n",
        "    for index, row in same_religion_df.iterrows():\n",
        "        stereotype_token1 = row['StereoType_x']\n",
        "        stereotype_token2 = row['StereoType_y']\n",
        "        if stereotype_token1 in model.key_to_index and stereotype_token2 in model.key_to_index:\n",
        "            token1_vec = model[stereotype_token1]\n",
        "            token2_vec = model[stereotype_token2]\n",
        "            similarity_score = cosine_similarity([token1_vec], [token2_vec])[0][0]\n",
        "            if similarity_score > max_similarity_scores[stereotype_token2]['score']:\n",
        "                max_similarity_scores[stereotype_token2] = {'score': similarity_score, 'token1': stereotype_token1}\n",
        "\n",
        "    results_df = pd.DataFrame(columns=['Stereotype Token 1', 'Stereotype Token 2', 'Similarity Score'])\n",
        "    for token2, info in max_similarity_scores.items():\n",
        "        token1 = info['token1']\n",
        "        score = info['score']\n",
        "        if token1 is not None:\n",
        "            results_df = results_df.append({'Stereotype Token 1': token1, 'Stereotype Token 2': token2, 'Similarity Score': score}, ignore_index=True)\n",
        "\n",
        "    results_df.to_csv(output_file, sep='\\t', index=False)\n"
      ],
      "metadata": {
        "id": "GG-VEddF2Eh0"
      },
      "execution_count": null,
      "outputs": []
    },
    {
      "cell_type": "code",
      "source": [
        "def getIdentityArray(filePath):\n",
        "    df_religion = pd.read_csv(filePath,sep='\\t')\n",
        "    religion_list = df_religion.values.tolist()\n",
        "    religion_idTerms = [item for sublist in religion_list for item in sublist]\n",
        "    return religion_idTerms\n",
        "\n",
        "filePathRegionIDterms = \"region_idterms.tsv\"\n",
        "\n",
        "\n",
        "regionArray = getIdentityArray(filePathRegionIDterms)\n",
        "print(regionArray)\n",
        "\n",
        "regionArray = ['uttar pradeshi', 'uttarakhandi', 'arunachali', 'haryanvi', 'himachali']\n",
        "\n",
        "for region in regionArray:\n",
        "  currRegionPath = region + \".tsv\"\n",
        "  masterRegionPath = \"region_stereotypes.tsv\"\n",
        "  outputFilePath = region + \"_similarity_scores.tsv\"\n",
        "  calculate_similarity_between_same_religion(word2vec_model, currRegionPath, masterRegionPath, outputFilePath)\n",
        "\n",
        "\n",
        "# file1_path = 'buddhist.tsv'\n",
        "# file2_path = 'religion_stereotypes.tsv'\n",
        "# output_file = 'buddhist_similarity_scores.tsv'\n",
        "# calculate_similarity_between_same_religion(word2vec_model, file1_path, file2_path, output_file)"
      ],
      "metadata": {
        "id": "5XmDHfZ3_nCp"
      },
      "execution_count": null,
      "outputs": []
    }
  ],
  "metadata": {
    "kernelspec": {
      "display_name": "Python 3",
      "name": "python3"
    },
    "language_info": {
      "codemirror_mode": {
        "name": "ipython",
        "version": 3
      },
      "file_extension": ".py",
      "mimetype": "text/x-python",
      "name": "python",
      "nbconvert_exporter": "python",
      "pygments_lexer": "ipython3",
      "version": "3.11.4"
    },
    "orig_nbformat": 4,
    "colab": {
      "provenance": []
    }
  },
  "nbformat": 4,
  "nbformat_minor": 0
}