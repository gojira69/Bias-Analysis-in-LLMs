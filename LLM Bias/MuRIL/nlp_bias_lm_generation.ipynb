{
 "cells": [
  {
   "cell_type": "markdown",
   "metadata": {},
   "source": [
    "Using the model `google/muril-base-cased` for generating tuples. \n",
    "\n",
    "Using a masked language model, we generate the top 100 results of the masked sequences and mask values. \n",
    "\n",
    "This code is only for generating `region` and `religion` based sequences for comparison of biasness with the `BERT` based model. "
   ]
  },
  {
   "cell_type": "code",
   "execution_count": null,
   "metadata": {},
   "outputs": [],
   "source": [
    "from transformers import pipeline\n",
    "import pandas as pd\n",
    "import itertools\n",
    "\n",
    "modelName = \"google/muril-base-cased\"\n",
    "\n",
    "topResults = 100\n",
    "unmasker = pipeline('fill-mask', model=modelName,top_k=topResults)"
   ]
  },
  {
   "cell_type": "markdown",
   "metadata": {},
   "source": [
    "# Data Cleaning\n",
    "\n",
    "Defining the common filepaths and helper functions "
   ]
  },
  {
   "cell_type": "code",
   "execution_count": null,
   "metadata": {},
   "outputs": [],
   "source": [
    "filePath_template = \"../nlp-fairness-for-india-main/templates.tsv\"\n",
    "filePath_religion_idterms = \"../nlp-fairness-for-india-main/religion_idterms.tsv\"\n",
    "filePath_region_idterms = \"../nlp-fairness-for-india-main/region_idterms.tsv\"\n",
    "filePath_Caste_idterms = \"../nlp-fairness-for-india-main/caste_idterms.tsv\"\n",
    "filePath_gender_idterms = \"../nlp-fairness-for-india-main/gender_idterms.tsv\"\n",
    "humanDataset_region = \"../nlp_fairness_India_datasets/region_stereotypes.tsv\"\n",
    "humanDataset_religion = \"../nlp_fairness_India_datasets/religion_stereotypes.tsv\"\n",
    "\n",
    "def getTemplateArray(filePath):\n",
    "    df_placeolders = pd.read_csv(filePath,sep='\\t')\n",
    "    df_placeolders = df_placeolders.iloc[:,1:]\n",
    "    df_placeolders = df_placeolders.replace('@','[MASK]',regex=True)\n",
    "    semiTemplates = df_placeolders.values.tolist()\n",
    "    templates = [item for sublist in semiTemplates for item in sublist]\n",
    "    return templates\n",
    "\n",
    "def getIdentityArray(filePath):\n",
    "    df_religion = pd.read_csv(filePath,sep='\\t')\n",
    "    religion_list = df_religion.values.tolist()\n",
    "    religion_idTerms = [item for sublist in religion_list for item in sublist]\n",
    "    return religion_idTerms\n",
    "\n",
    "def replaceSlotWithWord(sentences, word):\n",
    "    return word, [sentence.replace('[SLOT]', word) for sentence in sentences]\n",
    "\n",
    "\n",
    "def extract_common_tuples(file1_path,file2_path,social_axis):\n",
    "    file1_df = pd.read_csv(file1_path,sep='\\t')\n",
    "    file2_df = pd.read_csv(file2_path,sep='\\t')\n",
    "\n",
    "    merged_df = pd.merge(file1_df, file2_df, on=[social_axis, 'StereoType'], how='inner')\n",
    "    merged_df.drop_duplicates(inplace=True)\n",
    "\n",
    "    return merged_df\n",
    "\n",
    "def crossProduct(list1, list2):\n",
    "    cross_product = list(itertools.product(list1, list2))\n",
    "    return cross_product\n",
    "\n",
    "\n",
    "templates = getTemplateArray(filePath_template)"
   ]
  },
  {
   "cell_type": "markdown",
   "metadata": {},
   "source": [
    "# Religion\n",
    "\n",
    "The following code generates the sequences using the religion id terms. \n",
    "### Method \n",
    "\n",
    "We convert the religion id terms and template, which are stored in .tsv files, into list format. We then replace the phrase `[SLOT]` in each template instance with a religion from the religion list.\n",
    "\n",
    "We then push the lm generated sequences and the corresponfing religion into a `pandas` dataframe, and save it in a .tsv file."
   ]
  },
  {
   "cell_type": "code",
   "execution_count": null,
   "metadata": {},
   "outputs": [],
   "source": [
    "religionIDTerms = getIdentityArray(filePath_religion_idterms)\n",
    "religionTuples = []\n",
    "\n",
    "for religion in religionIDTerms:\n",
    "    currReligion , modifiedTemplates = replaceSlotWithWord(templates,religion)\n",
    "    for template in modifiedTemplates:\n",
    "        result = unmasker(template)\n",
    "        for res in result:\n",
    "            religionTuples.append((currReligion,res['token_str']))\n",
    "\n",
    "df_religionTuples = pd.DataFrame(religionTuples, columns=['Religion', 'StereoType'])\n",
    "output_file_path = \"religionTuples_MLM.tsv\"\n",
    "df_religionTuples.to_csv(output_file_path, sep='\\t', index=False)\n",
    "\n",
    "print(\"Data saved successfully.\")"
   ]
  },
  {
   "cell_type": "markdown",
   "metadata": {},
   "source": [
    "# Region\n",
    "\n",
    "The following code generates the sequences using the religion id terms. \n",
    "\n",
    "### Method\n",
    "\n",
    "Same as above but replacing the phrase `[SLOT]` with a region from the region array. "
   ]
  },
  {
   "cell_type": "code",
   "execution_count": null,
   "metadata": {},
   "outputs": [],
   "source": [
    "regionIDTerms = getIdentityArray(filePath_region_idterms)\n",
    "regionTuples = []\n",
    "\n",
    "for region in regionIDTerms:\n",
    "    currRegion , modifiedTemplates = replaceSlotWithWord(templates,region)\n",
    "    for template in modifiedTemplates:\n",
    "        result = unmasker(template)\n",
    "        for res in result:\n",
    "            regionTuples.append((currRegion,res['token_str']))\n",
    "\n",
    "df_regionTuples = pd.DataFrame(regionTuples, columns=['Region', 'StereoType'])\n",
    "output_file_path = \"regionTuples_MLM.tsv\"\n",
    "df_regionTuples.to_csv(output_file_path, sep='\\t', index=False)\n",
    "\n",
    "print(\"Data saved successfully.\")"
   ]
  }
 ],
 "metadata": {
  "kernelspec": {
   "display_name": "Python 3",
   "language": "python",
   "name": "python3"
  },
  "language_info": {
   "codemirror_mode": {
    "name": "ipython",
    "version": 3
   },
   "file_extension": ".py",
   "mimetype": "text/x-python",
   "name": "python",
   "nbconvert_exporter": "python",
   "pygments_lexer": "ipython3",
   "version": "3.11.4"
  }
 },
 "nbformat": 4,
 "nbformat_minor": 2
}
